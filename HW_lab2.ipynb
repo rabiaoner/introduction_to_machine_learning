{
 "cells": [
  {
   "cell_type": "code",
   "execution_count": 1,
   "id": "f9e41a97",
   "metadata": {},
   "outputs": [
    {
     "name": "stdout",
     "output_type": "stream",
     "text": [
      "[[ 1  2  3]\n",
      " [ 4  5  6]\n",
      " [ 7  8  9]\n",
      " [10 11 12]]\n",
      "\n",
      "\n",
      "[1 2 3 4 5]\n",
      "[6, 7, 8, 9, 10]\n"
     ]
    }
   ],
   "source": [
    "#importing\n",
    "import numpy as np\n",
    "#create array using array() function\n",
    "myarray1= np.array([(1,2,3),(4,5,6),(7,8,9),(10,11,12)])#1x4 array \n",
    "print(myarray1)\n",
    "print(\"\\n\")\n",
    "\n",
    "#array to list and list to array.\n",
    "list_ex=[1,2,3,4,5]\n",
    "myarray2 = np.array(list_ex)\n",
    "array_ex = [6,7,8,9,10]\n",
    "mylist = list(array_ex)\n",
    "\n",
    "print(myarray2)\n",
    "print(mylist)"
   ]
  },
  {
   "cell_type": "code",
   "execution_count": 34,
   "id": "d171d014",
   "metadata": {},
   "outputs": [
    {
     "name": "stdout",
     "output_type": "stream",
     "text": [
      "[5 7 9]\n",
      "[-3 -3 -3]\n",
      "[1 4 9]\n"
     ]
    }
   ],
   "source": [
    "#numpy basic operations\n",
    "a= np.array([1,2,3])\n",
    "b= np.array([4,5,6]) # for summition and substruction the size of arrays must be equal.\n",
    "\n",
    "print(a+b) #[5 7 9]\n",
    "print(a-b) #[-3 -3 -3]\n",
    "print(a**2) #[1 4 9]"
   ]
  },
  {
   "cell_type": "code",
   "execution_count": 49,
   "id": "e09cb2c1",
   "metadata": {},
   "outputs": [
    {
     "name": "stdout",
     "output_type": "stream",
     "text": [
      "[[ 1  2  3]\n",
      " [ 4  5  6]\n",
      " [ 7  8  9]\n",
      " [10 11 12]]\n",
      "\n",
      "\n",
      "[1 2 3]\n",
      "\n",
      "\n",
      "[[1 2 3]\n",
      " [4 5 6]]\n",
      "\n",
      "\n",
      "[[10 11 12]\n",
      " [ 7  8  9]\n",
      " [ 4  5  6]\n",
      " [ 1  2  3]]\n",
      "\n",
      "\n",
      "5\n",
      "\n",
      "\n",
      "[ 2  5  8 11]\n",
      "\n",
      "\n",
      "[4 5 6]\n",
      "\n",
      "\n",
      "[5 6]\n",
      "\n",
      "\n",
      "[10 11 12]\n",
      "\n",
      "\n",
      "[ 3  6  9 12]\n"
     ]
    }
   ],
   "source": [
    "#print array.\n",
    "a=myarray1\n",
    "print(a)\n",
    "print('\\n')\n",
    "print(a[0])\n",
    "print('\\n')\n",
    "print(a[0:2])\n",
    "print('\\n')\n",
    "print(a[::-1])\n",
    "print('\\n')\n",
    "print(a[1,1]) \n",
    "print('\\n')\n",
    "print(a[:,1]) \n",
    "print('\\n')\n",
    "print(a[1,:]) \n",
    "print('\\n')\n",
    "print(a[1,1:4]) \n",
    "print('\\n')\n",
    "print(a[-1,:]) \n",
    "print('\\n')\n",
    "print(a[:,-1]) "
   ]
  },
  {
   "cell_type": "code",
   "execution_count": 9,
   "id": "a10b9a13",
   "metadata": {},
   "outputs": [
    {
     "data": {
      "text/plain": [
       "array([[1., 1., 1.],\n",
       "       [1., 1., 1.]])"
      ]
     },
     "execution_count": 9,
     "metadata": {},
     "output_type": "execute_result"
    }
   ],
   "source": [
    "np.empty((2,3))#create empty array"
   ]
  },
  {
   "cell_type": "code",
   "execution_count": 10,
   "id": "62610f0d",
   "metadata": {},
   "outputs": [
    {
     "data": {
      "text/plain": [
       "array([[0., 0., 0.],\n",
       "       [0., 0., 0.]])"
      ]
     },
     "execution_count": 10,
     "metadata": {},
     "output_type": "execute_result"
    }
   ],
   "source": [
    "np.zeros((2,3))"
   ]
  },
  {
   "cell_type": "code",
   "execution_count": 11,
   "id": "5faf1460",
   "metadata": {},
   "outputs": [
    {
     "data": {
      "text/plain": [
       "array([[1., 1., 1.],\n",
       "       [1., 1., 1.]])"
      ]
     },
     "execution_count": 11,
     "metadata": {},
     "output_type": "execute_result"
    }
   ],
   "source": [
    "np.ones((2,3))"
   ]
  },
  {
   "cell_type": "code",
   "execution_count": 26,
   "id": "63c5418a",
   "metadata": {},
   "outputs": [
    {
     "name": "stdout",
     "output_type": "stream",
     "text": [
      "shape: (4, 3)\n",
      "\n",
      "\n",
      "reshape:\n",
      " [[ 1  2]\n",
      " [ 3  4]\n",
      " [ 5  6]\n",
      " [ 7  8]\n",
      " [ 9 10]\n",
      " [11 12]]\n",
      "\n",
      "\n",
      "dimension: 2\n",
      "\n",
      "\n",
      "data type: int32\n",
      "\n",
      "\n",
      "size: 12\n",
      "\n",
      "\n",
      "type: <class 'numpy.ndarray'>\n",
      "\n",
      "\n"
     ]
    }
   ],
   "source": [
    "#shape-reshape-dimension-data_type-size-type\n",
    "#shape:\n",
    "print('shape:',myarray1.shape)\n",
    "print('\\n')\n",
    "#reshape:\n",
    "print('reshape:\\n',myarray1.reshape(6,2))\n",
    "print('\\n')\n",
    "print('dimension:',myarray1.ndim)\n",
    "print('\\n')\n",
    "print('data type:',myarray1.dtype)\n",
    "print('\\n')\n",
    "print('size:',myarray1.size)\n",
    "print('\\n')\n",
    "print('type:',type(myarray1))\n",
    "print('\\n')"
   ]
  },
  {
   "cell_type": "code",
   "execution_count": 32,
   "id": "0ea0b0e8",
   "metadata": {},
   "outputs": [
    {
     "data": {
      "text/plain": [
       "array([ 0,  2,  4,  6,  8, 10, 12, 14, 16, 18])"
      ]
     },
     "execution_count": 32,
     "metadata": {},
     "output_type": "execute_result"
    }
   ],
   "source": [
    "#arange\n",
    "#print the numbers between 0 and 20 two by two \n",
    "np.arange(0,20,2)"
   ]
  },
  {
   "cell_type": "code",
   "execution_count": 33,
   "id": "825db0db",
   "metadata": {},
   "outputs": [
    {
     "data": {
      "text/plain": [
       "array([ 0.        ,  0.52631579,  1.05263158,  1.57894737,  2.10526316,\n",
       "        2.63157895,  3.15789474,  3.68421053,  4.21052632,  4.73684211,\n",
       "        5.26315789,  5.78947368,  6.31578947,  6.84210526,  7.36842105,\n",
       "        7.89473684,  8.42105263,  8.94736842,  9.47368421, 10.        ])"
      ]
     },
     "execution_count": 33,
     "metadata": {},
     "output_type": "execute_result"
    }
   ],
   "source": [
    "#linspace\n",
    "#print 20 numbers each 0 and 10\n",
    "np.linspace(0,10,20)"
   ]
  },
  {
   "cell_type": "code",
   "execution_count": 51,
   "id": "25827014",
   "metadata": {},
   "outputs": [
    {
     "name": "stdout",
     "output_type": "stream",
     "text": [
      "[[ 1  4  7 10]\n",
      " [ 2  5  8 11]\n",
      " [ 3  6  9 12]]\n"
     ]
    }
   ],
   "source": [
    "#transpose\n",
    "print(myarray1.T)"
   ]
  },
  {
   "cell_type": "code",
   "execution_count": 54,
   "id": "f60f769c",
   "metadata": {},
   "outputs": [
    {
     "name": "stdout",
     "output_type": "stream",
     "text": [
      "[ 1  2  3  4  5  6  7  8  9 10 11 12]\n"
     ]
    }
   ],
   "source": [
    "#ravel methoduyla tek boyutlu hale getirilir.\n",
    "myarray3= np.array([(1,2,3),(4,5,6),(7,8,9),(10,11,12)])\n",
    "a=myarray3.ravel()\n",
    "print(a)"
   ]
  },
  {
   "cell_type": "code",
   "execution_count": null,
   "id": "038110a9",
   "metadata": {},
   "outputs": [],
   "source": []
  }
 ],
 "metadata": {
  "kernelspec": {
   "display_name": "Python 3 (ipykernel)",
   "language": "python",
   "name": "python3"
  },
  "language_info": {
   "codemirror_mode": {
    "name": "ipython",
    "version": 3
   },
   "file_extension": ".py",
   "mimetype": "text/x-python",
   "name": "python",
   "nbconvert_exporter": "python",
   "pygments_lexer": "ipython3",
   "version": "3.9.13"
  }
 },
 "nbformat": 4,
 "nbformat_minor": 5
}
